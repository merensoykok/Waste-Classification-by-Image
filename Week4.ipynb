{
 "cells": [
  {
   "cell_type": "code",
   "execution_count": 1,
   "id": "5d70526d",
   "metadata": {},
   "outputs": [],
   "source": [
    "import numpy as np\n",
    "import pandas as pd\n",
    "import matplotlib.pyplot as plt\n",
    "import tensorflow as tf\n",
    "from PIL import Image\n",
    "import os\n",
    "import scipy"
   ]
  },
  {
   "cell_type": "code",
   "execution_count": 2,
   "id": "9aa1e5e3",
   "metadata": {},
   "outputs": [
    {
     "name": "stdout",
     "output_type": "stream",
     "text": [
      "Class number : 9\n",
      "New number of images for each classes:\n",
      "\t battery : 945\n",
      "\t cardboard : 403\n",
      "\t clothes : 1320\n",
      "\t glass : 501\n",
      "\t metal : 769\n",
      "\t paper : 594\n",
      "\t plastic : 865\n",
      "\t shoes : 1311\n",
      "\t trash : 137\n",
      "Total:  6845\n"
     ]
    }
   ],
   "source": [
    "dataset_path = r\"C:\\Users\\Eren\\Desktop\\notlar\\lesson notes\\dönem 5\\AIN311\\project\\dataset\\garbage_classification_dataset\"\n",
    "number_of_class = len(os.listdir(dataset_path))\n",
    "classes = os.listdir(dataset_path)\n",
    "\n",
    "print(\"Class number :\" , number_of_class)\n",
    "\n",
    "print(\"New number of images for each classes:\")\n",
    "total = 0\n",
    "for cls in classes:\n",
    "    no = len(os.listdir(os.path.join(dataset_path, cls)))\n",
    "    print(\"\\t\",cls, \":\", no)\n",
    "    total += no\n",
    "    \n",
    "print(\"Total: \", total)"
   ]
  },
  {
   "cell_type": "code",
   "execution_count": 3,
   "id": "1c87e5bf-0149-416d-878b-141adcbb2172",
   "metadata": {},
   "outputs": [
    {
     "name": "stdout",
     "output_type": "stream",
     "text": [
      "battery class is being processed...\n",
      "cardboard class is being processed...\n",
      "clothes class is being processed...\n",
      "glass class is being processed...\n",
      "metal class is being processed...\n",
      "paper class is being processed...\n",
      "plastic class is being processed...\n",
      "shoes class is being processed...\n",
      "trash class is being processed...\n",
      "Images are created and saved into the related folder of classes.\n"
     ]
    }
   ],
   "source": [
    "from keras.preprocessing import image\n",
    "\n",
    "datagen = image.ImageDataGenerator(\n",
    "    horizontal_flip = True,\n",
    "    vertical_flip = True, \n",
    "    rotation_range = 45,\n",
    ")\n",
    "\n",
    "class_folders = os.listdir(dataset_path)\n",
    "\n",
    "for class_folder in class_folders:\n",
    "    class_path = os.path.join(dataset_path, class_folder)\n",
    "    \n",
    "    if not os.path.isdir(class_path):\n",
    "        continue \n",
    "    \n",
    "    print(f\"{class_folder} class is being processed...\")\n",
    "    images = os.listdir(class_path)\n",
    "    \n",
    "    for img_name in images:\n",
    "        img_path = os.path.join(class_path, img_name)\n",
    "        img = tf.keras.utils.load_img(img_path, target_size=(128, 128))\n",
    "        x = tf.keras.utils.img_to_array(img)\n",
    "        x = np.expand_dims(x, axis=0)\n",
    "\n",
    "        i = 0\n",
    "        for batch in datagen.flow(x, batch_size=1):\n",
    "            augmented_img = tf.keras.utils.img_to_array(batch[0])\n",
    "            #save_path = os.path.join(r\"C:\\Users\\Eren\\Desktop\\notlar\\lesson notes\\dönem 5\\AIN311\\project\\dataset\\aug\", f'aug_{i}_{img_name}')\n",
    "            save_path = os.path.join(class_path, f'aug_{i}_{img_name}')\n",
    "            \n",
    "            pil_img = Image.fromarray(augmented_img.astype(np.uint8)).convert('RGB') \n",
    "            pil_img.save(save_path)\n",
    "            \n",
    "            i += 1\n",
    "            if i >= 3:  \n",
    "                break\n",
    "    \n",
    "print(\"Images are created and saved into the related folder of classes.\")\n"
   ]
  },
  {
   "cell_type": "code",
   "execution_count": 4,
   "id": "412c783c-61bb-4621-b6cc-802bf31d227c",
   "metadata": {},
   "outputs": [
    {
     "name": "stdout",
     "output_type": "stream",
     "text": [
      "Class number : 9\n",
      "New number of images for each classes:\n",
      "\t battery : 3780\n",
      "\t cardboard : 1612\n",
      "\t clothes : 5280\n",
      "\t glass : 2004\n",
      "\t metal : 3076\n",
      "\t paper : 2376\n",
      "\t plastic : 3460\n",
      "\t shoes : 5244\n",
      "\t trash : 548\n",
      "Total:  27380\n"
     ]
    }
   ],
   "source": [
    "number_of_class = len(os.listdir(dataset_path))\n",
    "classes = os.listdir(dataset_path)\n",
    "\n",
    "print(\"Class number :\" , number_of_class)\n",
    "print(\"New number of images for each classes:\")\n",
    "total = 0\n",
    "for cls in classes:\n",
    "    no = len(os.listdir(os.path.join(dataset_path, cls)))\n",
    "    print(\"\\t\",cls, \":\", no)\n",
    "    total += no\n",
    "    \n",
    "print(\"Total: \", total)"
   ]
  },
  {
   "cell_type": "code",
   "execution_count": null,
   "id": "7ec77743-25b1-4f5b-ace9-72aa587436ee",
   "metadata": {},
   "outputs": [],
   "source": []
  }
 ],
 "metadata": {
  "kernelspec": {
   "display_name": "Python 3 (ipykernel)",
   "language": "python",
   "name": "python3"
  },
  "language_info": {
   "codemirror_mode": {
    "name": "ipython",
    "version": 3
   },
   "file_extension": ".py",
   "mimetype": "text/x-python",
   "name": "python",
   "nbconvert_exporter": "python",
   "pygments_lexer": "ipython3",
   "version": "3.10.0"
  }
 },
 "nbformat": 4,
 "nbformat_minor": 5
}
