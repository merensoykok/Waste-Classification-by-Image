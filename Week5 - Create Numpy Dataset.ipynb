{
 "cells": [
  {
   "cell_type": "code",
   "execution_count": 1,
   "id": "6febedda-f9bd-46f4-8161-ebbaca8d1ee7",
   "metadata": {},
   "outputs": [],
   "source": [
    "import numpy as np\n",
    "import pandas as pd\n",
    "import os\n",
    "import random\n",
    "from PIL import Image\n",
    "from numpy import asarray\n"
   ]
  },
  {
   "cell_type": "code",
   "execution_count": 19,
   "id": "d98e1842-f1d1-4ced-8338-0e759b8fb03f",
   "metadata": {},
   "outputs": [],
   "source": [
    "def save(arr, path):\n",
    "    save_path = r\"C:\\Users\\Eren\\Desktop\\notlar\\lesson notes\\dönem 5\\AIN311\\project\\dataset\\npy_files\"\n",
    "    if not os.path.exists(save_path):\n",
    "        os.makedirs(save_path)\n",
    "    with open(os.path.join(save_path, path) + \".npy\", 'wb') as f:\n",
    "        np.save(f, arr)"
   ]
  },
  {
   "cell_type": "code",
   "execution_count": 3,
   "id": "faa5a315-6505-4adc-b8ad-c2da35b332ac",
   "metadata": {},
   "outputs": [],
   "source": [
    "def load(path):\n",
    "    with open(path, 'rb') as f:\n",
    "        return np.load(f, allow_pickle=True)"
   ]
  },
  {
   "cell_type": "code",
   "execution_count": 4,
   "id": "8f4b8566-7163-4541-90a7-94977e84e29e",
   "metadata": {},
   "outputs": [],
   "source": [
    "def create_dataset(portion:float):\n",
    "    x_train = []\n",
    "    y_train = []\n",
    "    x_test = []\n",
    "    y_test = []\n",
    "    \n",
    "    classes = os.listdir(dataset_path)\n",
    "    \n",
    "    for cls in classes:\n",
    "        class_path = os.path.join(dataset_path, cls)\n",
    "        image_list = os.listdir(class_path)\n",
    "        random.shuffle(image_list)\n",
    "        \n",
    "        image_list_len = len(image_list)\n",
    "        test_size = int(image_list_len * portion)\n",
    "        train_size = image_list_len - test_size\n",
    "    \n",
    "        x_test.extend(image_list[:test_size])\n",
    "        y_test.extend([cls for i in range(test_size)])\n",
    "    \n",
    "        x_train.extend(image_list[test_size:])\n",
    "        y_train.extend([cls for i in range(train_size)])\n",
    "\n",
    "    x_train = np.array(x_train)\n",
    "    y_train = np.array(y_train)\n",
    "    x_test = np.array(x_test)\n",
    "    y_test = np.array(y_test)\n",
    "    \n",
    "    return x_train, y_train, x_test, y_test\n",
    "    "
   ]
  },
  {
   "cell_type": "code",
   "execution_count": 5,
   "id": "50c01c48-658d-4f72-ab2a-acf87cfb5ea1",
   "metadata": {},
   "outputs": [
    {
     "data": {
      "text/plain": [
       "((21907,), (21907,), (5473,), (5473,))"
      ]
     },
     "execution_count": 5,
     "metadata": {},
     "output_type": "execute_result"
    }
   ],
   "source": [
    "dataset_path = r\"C:\\Users\\Eren\\Desktop\\notlar\\lesson notes\\dönem 5\\AIN311\\project\\dataset\\garbage_classification_dataset\"\n",
    "portion = 0.2\n",
    "    \n",
    "x_train, y_train, x_test, y_test = create_dataset(portion)\n",
    "\n",
    "x_train.shape, y_train.shape, x_test.shape, y_test.shape\n"
   ]
  },
  {
   "cell_type": "code",
   "execution_count": 12,
   "id": "e92e0dcf-39f1-4c7c-b8fa-9d1f25a167c9",
   "metadata": {},
   "outputs": [],
   "source": [
    "def get_image_dataset(x_data:np.ndarray, y_data:np.ndarray):\n",
    "    x_img_data = []\n",
    "\n",
    "    for image_name, cls in zip(x_data, y_data):\n",
    "        image_path = os.path.join(dataset_path, cls, image_name)\n",
    "        \n",
    "        img = Image.open(image_path)\n",
    "        img = img.resize((128,128))\n",
    "        numpydata = asarray(img, dtype=\"object\")\n",
    "\n",
    "        if numpydata.shape != (128,128): \n",
    "            x_img_data.append(numpydata)\n",
    "        \n",
    "    x_img_data = np.array(x_img_data)\n",
    "    \n",
    "    return x_img_data"
   ]
  },
  {
   "cell_type": "code",
   "execution_count": 16,
   "id": "044fbeb4-a522-4168-b3e0-897102182d6e",
   "metadata": {},
   "outputs": [],
   "source": [
    "x_test = get_image_dataset(x_test, y_test)\n",
    "x_train = get_image_dataset(x_train, y_train)\n"
   ]
  },
  {
   "cell_type": "code",
   "execution_count": 17,
   "id": "5ba2344d-0071-4e91-a3a3-720ed1a27129",
   "metadata": {},
   "outputs": [
    {
     "data": {
      "text/plain": [
       "((5472, 128, 128, 3), (21902, 128, 128, 3))"
      ]
     },
     "execution_count": 17,
     "metadata": {},
     "output_type": "execute_result"
    }
   ],
   "source": [
    "x_test.shape, x_train.shape\n"
   ]
  },
  {
   "cell_type": "code",
   "execution_count": 20,
   "id": "c1903599-10e7-40a5-88c6-b2b335327af2",
   "metadata": {},
   "outputs": [],
   "source": [
    "save(x_train, \"x_train_128\")\n",
    "save(y_train, \"y_train_128\")\n",
    "save(x_test, \"x_test_128\")\n",
    "save(y_test, \"y_test_128\")"
   ]
  }
 ],
 "metadata": {
  "kernelspec": {
   "display_name": "Python 3 (ipykernel)",
   "language": "python",
   "name": "python3"
  },
  "language_info": {
   "codemirror_mode": {
    "name": "ipython",
    "version": 3
   },
   "file_extension": ".py",
   "mimetype": "text/x-python",
   "name": "python",
   "nbconvert_exporter": "python",
   "pygments_lexer": "ipython3",
   "version": "3.10.0"
  }
 },
 "nbformat": 4,
 "nbformat_minor": 5
}
